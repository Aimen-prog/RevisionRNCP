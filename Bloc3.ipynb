{
  "cells": [
    {
      "cell_type": "markdown",
      "metadata": {
        "id": "Vp-Dd5ekdpe2"
      },
      "source": [
        "\n",
        "\n",
        "![logo lw.png](data:image/png;base64,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)\n",
        "\n"
      ]
    },
    {
      "cell_type": "markdown",
      "metadata": {
        "id": "swfDug53bB4g"
      },
      "source": [
        "### Comparer les regressions"
      ]
    },
    {
      "cell_type": "markdown",
      "metadata": {
        "id": "ar-nZ4qgbThA"
      },
      "source": [
        "Comparez le modèle de régression linéaire et le modèle de régression logistique. Pourquoi quelles tâches sont les plus adaptées ? Quels sont leurs avantages et leurs inconvénients ?"
      ]
    },
    {
      "cell_type": "markdown",
      "metadata": {
        "id": "Pv5M7_hPbNxw"
      },
      "source": [
        "L'utilisation de chaque modele dépend du type de données et du problème spécifique à résoudre : continuité pour la régression linéaire et classification binaire pour la régression logistique\n",
        "\n",
        "La régression linéaire est utilisée pour prédire des variables continues avec une relation supposée linéaire entre les variables. Cependant, elle peut être limitée par sa nécessité de relations linéaires et sa sensibilité aux outliers.. \n",
        "\n",
        "La régression logistique  est optimisée pour la classification binaire, fournissant des probabilités de classe. Elle est moins affectée par les valeurs aberrantes."
      ]
    },
    {
      "cell_type": "markdown",
      "metadata": {
        "id": "5MrU4y2GbaRd"
      },
      "source": [
        "### Justification de l'accuracy"
      ]
    },
    {
      "cell_type": "markdown",
      "metadata": {
        "id": "S-vlmDqUbioa"
      },
      "source": [
        "Vous avez entraîné un modèle pour prédire si un produit aura du succès ou non. Vous obtenez une accuracy de 0.86. Êtes-vous satisfait ? Pourquoi ?"
      ]
    },
    {
      "cell_type": "markdown",
      "metadata": {
        "id": "r3z0_jWEbjgW"
      },
      "source": [
        "Une accuracy de 0.86 est généralement satisfaisante, mais ce n'est pas un repère, elle ne doit pas être le seul critère d'évaluation.\n",
        "Par exemple, pour la détection des AVC, il est crucial de se concentrer sur plusieurs métriques d'évaluation afin d'avoir une vue complète de la performance de mon modèle. Dans ce cas, un \"Recall\" élevée est important car ça minimise les faux négatifs càd les cas d'AVC réels non détectés par le modèle et qu'on pourrait malheureusement laisser sans traitement."
      ]
    },
    {
      "cell_type": "markdown",
      "metadata": {
        "id": "MgtYK3wSbnjS"
      },
      "source": [
        "### Différents pré-traitements"
      ]
    },
    {
      "cell_type": "markdown",
      "metadata": {
        "id": "hhoBeo1_bzfj"
      },
      "source": [
        "Quels sont les différents pré-traitements de données que vous connaissez ? Précisez à quel type de données ils s’appliquent et le code Python si possible."
      ]
    },
    {
      "cell_type": "markdown",
      "metadata": {
        "id": "10YHjUYob0pw"
      },
      "source": [
        "Pour les données numériques :\n",
        "\n",
        "*Traitement des outliers*: ça sert à identifier et gérer les valeurs aberrantes qui pourraient fausser l'apprentissage du modèle.\n",
        "\n",
        "*Standardisation* : mettre à l'échelle la data numérique afin qu'elle ait une distribution plus normale facilitant l'apprentissage des modèles\n",
        "\n",
        "*Réduction de dimension* : réduire le nombre de variables en conservant le maximum d'informations pertinentes/influantes\n",
        "\n",
        "Pour les données catégoriques :\n",
        "\n",
        "*Encodage*: OneHot pour convertir des variables en valeurs binaires pour l'analyse et l'apprentissage et l'nteger encoding pour convertir les catégories en valeurs numériques."
      ]
    },
    {
      "cell_type": "code",
      "execution_count": null,
      "metadata": {
        "id": "T2bQ8sDgb2Sz"
      },
      "outputs": [],
      "source": [
        "# detection des outliers num avec la méthode de l'iqr (interquartile range )\n",
        "import numpy as np\n",
        "def detect_outliers_iqr(X):\n",
        "    Q1 = np.percentile(X, 25)\n",
        "    Q3 = np.percentile(X, 75)\n",
        "    # Calcul de IQR \n",
        "    IQR = Q3 - Q1\n",
        "    # frontieres min max\n",
        "    lower_bound = Q1 - 1.5 * IQR\n",
        "    upper_bound = Q3 + 1.5 * IQR\n",
        "    outliers = (X < lower_bound) | (X > upper_bound)\n",
        "    return outliers\n",
        "\n",
        "# Standardisation\n",
        "from sklearn.preprocessing import StandardScaler\n",
        "scaler = StandardScaler()\n",
        "X_scaled = scaler.fit_transform(X)\n",
        "\n",
        "# reduction de dimension\n",
        "from sklearn.decomposition import PCA\n",
        "pca = PCA(n_components=2)\n",
        "X_pca = pca.fit_transform(X)\n",
        "\n",
        "# encodage onehot\n",
        "from sklearn.preprocessing import OneHotEncoder\n",
        "encoder = OneHotEncoder()\n",
        "X_encoded = encoder.fit_transform(X_cat)"
      ]
    },
    {
      "cell_type": "markdown",
      "metadata": {
        "id": "LpKwHUrnb6L4"
      },
      "source": [
        "### Ré-équilibrer la donnée"
      ]
    },
    {
      "cell_type": "markdown",
      "metadata": {
        "id": "7NZvStL5cEG4"
      },
      "source": [
        "Vous travaillez pour une plateforme de streaming de films. Vous voulez prédire si un film va être beaucoup regardé en fonction de ses caractéristiques.\n",
        "\n",
        "\n",
        "Votre jeu de données n’est pas balancé - vous avez 10% de vos films qui ont été peu regardés et 90% qui ont été beaucoup regardés.\n",
        "\n",
        "\n",
        "Que pouvez-vous faire pour rebalancer la donnée ? Plusieurs solutions sont possibles."
      ]
    },
    {
      "cell_type": "markdown",
      "metadata": {
        "id": "D8jipzVXcHbT"
      },
      "source": [
        "Je pourrais par exemple dupliquer aléatoirement des observations de la classe minoritaire jusqu'à atteindre un équilibre avec la classe majoritaire mais cela peut me conduire à un overfitting sur les données dupliquées. Je choisirais donc de créer de nouveaux points synthétiques pour la classe minoritaire en me basnt sur les voisins les plus proches, en utilisant le SMOTE  (Synthetic Minority Over-sampling Technique)."
      ]
    },
    {
      "cell_type": "markdown",
      "metadata": {
        "id": "cKpI9zIpcMT-"
      },
      "source": [
        "### Efficacité du modèle"
      ]
    },
    {
      "cell_type": "markdown",
      "metadata": {
        "id": "FlWUhiCTcVC5"
      },
      "source": [
        "Comment savoir si le prétraitement des données a amélioré l’efficacité du modèle ?"
      ]
    },
    {
      "cell_type": "markdown",
      "metadata": {},
      "source": [
        "Je peux évaluer l'efficacité du prétraitement des données en comparant directement les performances de mon modèle avant et après son application, en utilisant des métriques (recall, f1...). Aussi, l'analyse des courbes d'apprentissage et des types d'erreurs me permettra de déterminer les bénéfices spécifiques du prétraitement."
      ]
    },
    {
      "cell_type": "markdown",
      "metadata": {
        "id": "vd7nY7zIcbcj"
      },
      "source": [
        "### Data leakage"
      ]
    },
    {
      "cell_type": "markdown",
      "metadata": {
        "id": "RNA4lZDdclt_"
      },
      "source": [
        "Comment éviter de faire du data leakage ? Ajoutez le code Python."
      ]
    },
    {
      "cell_type": "markdown",
      "metadata": {
        "id": "AmbfMpN3cmnc"
      },
      "source": [
        "Pour éviter le data leakage faut s'assurer de ne pas appliquer de prétraitement comme la normalisation des données ou l'encodage des catégories avant d'avoir divisé les données en ensembles d'entraînement et de test\n"
      ]
    },
    {
      "cell_type": "code",
      "execution_count": null,
      "metadata": {
        "id": "7A-_mGNLcozS"
      },
      "outputs": [],
      "source": [
        "from sklearn.model_selection import train_test_split\n",
        "\n",
        "# separation en entrainement et   test\n",
        "X_train, X_test, y_train, y_test = train_test_split(X, y, test_size=0.2, random_state=42)\n",
        "\n",
        "# Prétraitement uniquement sur X_train et X_test\n",
        "# ... "
      ]
    },
    {
      "cell_type": "markdown",
      "metadata": {
        "id": "860iXLv0crav"
      },
      "source": [
        "### Etapes d'entraînement d'algorithme"
      ]
    },
    {
      "cell_type": "markdown",
      "metadata": {
        "id": "VjE1CPL0c0Bu"
      },
      "source": [
        "Imaginez que vous devez entraîner un algorithme de régression linéaire.\n",
        "\n",
        "Quelles sont les différentes étapes nécessaires ?\n",
        "\n",
        "Utilisez le code Python et n’oubliez pas de préciser la bonne donnée entre donnée d’entraînement et donnée de test."
      ]
    },
    {
      "cell_type": "markdown",
      "metadata": {
        "id": "mCNu9Tdkc3e3"
      },
      "source": [
        "Les étapes sont: le chargement des données, la préparation des features et de la variable target (cible), la division des données en ensembles d'entraînement et de test, la création et l'entraînement du modèle de régression linéaire, ainsi que l'évaluation des performances du modèle sur l'ensemble de test à l'aide du  MSE et du Rsquared."
      ]
    },
    {
      "cell_type": "code",
      "execution_count": null,
      "metadata": {
        "id": "QHfM_v6ec6wg"
      },
      "outputs": [],
      "source": [
        "import numpy as np\n",
        "import pandas as pd\n",
        "from sklearn.model_selection import train_test_split\n",
        "from sklearn.linear_model import LinearRegression\n",
        "from sklearn.metrics import mean_squared_error, r2_score\n",
        "data = pd.read_csv('data.csv')\n",
        "\n",
        "# Préparation des données\n",
        "X = data[['Feature1', 'Feature2', 'Feature3']]\n",
        " # variable cible\n",
        "y = data['Target'] \n",
        "\n",
        "# Division de la data en ensembles d'entraînement et de test\n",
        "X_train, X_test, y_train, y_test = train_test_split(X, y, test_size=0.2, random_state=0)\n",
        "\n",
        "#création du modèle de régression linéaire et entraînement\n",
        "model = LinearRegression()\n",
        "model.fit(X_train, y_train)\n",
        "\n",
        "# prédiction sur l'ensemble de test\n",
        "y_pred = model.predict(X_test)\n",
        "\n",
        "#evaluation du modèle\n",
        "mse = mean_squared_error(y_test, y_pred)\n",
        "r2 = r2_score(y_test, y_pred)\n",
        "\n",
        "print(f'mean squared error: {mse}'); print(f'r-squared: {r2}')\n"
      ]
    },
    {
      "cell_type": "markdown",
      "metadata": {
        "id": "pnMuPp59dAAM"
      },
      "source": [
        "### Hyper Paramètres"
      ]
    },
    {
      "cell_type": "markdown",
      "metadata": {
        "id": "K1jq0S4MdLDG"
      },
      "source": [
        "Imaginez que vous devez entraîner un KNNClassifier. Quels sont les différents hyper paramètres que vous pouvez modifier ?\n",
        "\n",
        "Choisissez-en trois et expliquez quels impacts ils auront."
      ]
    },
    {
      "cell_type": "markdown",
      "metadata": {
        "id": "0T1-CbOmdOGy"
      },
      "source": [
        "La valeur de k, la fonction de distance, et la méthode de pondération. \n",
        "\n",
        "- Le paramètre k détermine le nombre de voisins à considérer lors de la classification : une valeur plus élevée rend le modèle moins sensible au bruit mais on peut tomber dans l'overfitting. \n",
        "\n",
        "- La fonction de distance ( distance euclidienne ou de Manhattan) affecte comment les voisins sont mesurés par rapport à l'échantillon à prédire, influençant la précision du modèle\n",
        "\n",
        "- La pondération des voisins qui influence également la façon dont les voisins contribuent à la prédiction finale, affectant ainsi la sensibilité aux outliers  et la stabilité globale du modèle."
      ]
    }
  ],
  "metadata": {
    "colab": {
      "provenance": []
    },
    "kernelspec": {
      "display_name": "Python 3",
      "name": "python3"
    },
    "language_info": {
      "name": "python",
      "version": "3.11.5"
    }
  },
  "nbformat": 4,
  "nbformat_minor": 0
}
